{
 "cells": [
  {
   "cell_type": "markdown",
   "metadata": {},
   "source": [
    "https://towardsdatascience.com/computer-vision-for-beginners-part-1-7cca775f58ef"
   ]
  },
  {
   "cell_type": "code",
   "execution_count": null,
   "metadata": {},
   "outputs": [],
   "source": [
    "import numpy as np\n",
    "import cv2\n",
    "import matplotlib.pyplot as plt\n",
    "%matplotlib inline\n",
    "\n",
    "# OpenCV color standard is BGR (Blue, Green, Red)\n",
    "# So when the image is displayed, it'll look kinda funny until you convert it to RGB\n",
    "img = cv2.imread('Pepsi_logo_2014.png')\n",
    "print(cv2.__version__)\n",
    "type(img)"
   ]
  },
  {
   "cell_type": "code",
   "execution_count": null,
   "metadata": {},
   "outputs": [],
   "source": [
    "# All OpenCV color transformations\n",
    "print([x for x in dir(cv2) if x.startswith('COLOR_')])"
   ]
  },
  {
   "cell_type": "code",
   "execution_count": null,
   "metadata": {},
   "outputs": [],
   "source": [
    "# simple function to return heigh/width/depth; frequently used throughout for verification\n",
    "def image_dimensions(img):\n",
    "    img_dim = ('Height:','Width: ','Depth: ')\n",
    "    \n",
    "    for i in range(img.ndim):\n",
    "        print(img_dim[i],img.shape[i])"
   ]
  },
  {
   "cell_type": "code",
   "execution_count": null,
   "metadata": {},
   "outputs": [],
   "source": [
    "# split and display each color individually; not really sure if it will be important going forward, but just in case\n",
    "def split_color_display (img):\n",
    "    # Plot the three channels of the image\n",
    "    fig, axs = plt.subplots(nrows = 1, ncols = 3, figsize = (20, 20))\n",
    "\n",
    "    for i in range(0, 3):\n",
    "        ax = axs[i]\n",
    "        ax.imshow(cv2.split(img)[i])\n",
    "    plt.show()"
   ]
  },
  {
   "cell_type": "markdown",
   "metadata": {},
   "source": [
    "How-To Blend Images: https://docs.opencv.org/3.4/d5/dc4/tutorial_adding_images.html"
   ]
  },
  {
   "cell_type": "code",
   "execution_count": null,
   "metadata": {},
   "outputs": [],
   "source": [
    "# blends two images together; essentially adding both their matrices\n",
    "def blend_images (src1, src2, alpha):\n",
    "    \n",
    "    height_1, width_1, depth_1 = src1.shape # get shape of image 1\n",
    "    height_2, width_2, depth_2 = src2.shape # get shape of image 2\n",
    "    src3 = cv2.resize(src2, (width_1,height_1)) # resize image 2 to match image 1\n",
    "    \n",
    "    # [blend_images]\n",
    "    beta = (1.0 - alpha) # alpha/beta is % of blend. higher alpha = more of image 1, lower alpha = more of image 2\n",
    "    new_img = cv2.addWeighted(src1, alpha, src3, beta, 0.0)\n",
    "    \n",
    "    return new_img"
   ]
  },
  {
   "cell_type": "code",
   "execution_count": null,
   "metadata": {},
   "outputs": [],
   "source": [
    "# measures two images, resizes 'source' image to match the size of the 'destination' image\n",
    "def resize_image (destination, source):\n",
    "    \n",
    "    height_1, width_1, depth_1 = destination.shape # get shape of image 1\n",
    "    height_2, width_2, depth_2 = source.shape # get shape of image 2\n",
    "    \n",
    "    if (height_1==height_2 & width_1==width_2):\n",
    "        target = source\n",
    "    else:\n",
    "        target = cv2.resize(source, (width_1,height_1)) # resize image 2 to match image 1\n",
    "        \n",
    "    return target"
   ]
  },
  {
   "cell_type": "code",
   "execution_count": null,
   "metadata": {},
   "outputs": [],
   "source": [
    "# rotates an image counter-clockwise by [degrees]\n",
    "# [shrinkage] is a percentage that shrinks the image (to ensure it stays within the image dimension bounds)\n",
    "# eg. rotate_image(img, 45, 0.7) will take the [img], \n",
    "# rotate it 45 degrees counter-clockwise and shrink it to 70% of its orignal size\n",
    "def rotate_image (img, degrees, shrinkage):\n",
    "    num_rows, num_cols = img.shape[:2]\n",
    "    rotation_matrix = cv2.getRotationMatrix2D((num_cols/2, num_rows/2), degrees, shrinkage)\n",
    "    rotated_img = cv2.warpAffine(img, rotation_matrix, (num_cols, num_rows))\n",
    "    return rotated_img"
   ]
  },
  {
   "cell_type": "code",
   "execution_count": null,
   "metadata": {},
   "outputs": [],
   "source": [
    "# Convert img from BGR to RGB\n",
    "rgb_img = cv2.cvtColor(img, cv2.COLOR_BGR2RGB)\n",
    "image_dimensions(rgb_img) # print image dimensions\n",
    "\n",
    "plt.title('RGB Image')\n",
    "plt.imshow(rgb_img)\n",
    "\n",
    "split_color_display(rgb_img) # split all three colors into separate plots"
   ]
  },
  {
   "cell_type": "code",
   "execution_count": null,
   "metadata": {},
   "outputs": [],
   "source": [
    "# Convert img from BGR to GRAYSCALE\n",
    "gray_img = cv2.cvtColor(img, cv2.COLOR_BGR2GRAY)\n",
    "\n",
    "image_dimensions(gray_img)\n",
    "\n",
    "plt.title('Gray Image')\n",
    "plt.imshow(gray_img, cmap='gray')"
   ]
  },
  {
   "cell_type": "code",
   "execution_count": null,
   "metadata": {
    "scrolled": true
   },
   "outputs": [],
   "source": [
    "# Convert img from BGR to GRAYSCALE\n",
    "hsv_img = cv2.cvtColor(img, cv2.COLOR_BGR2HSV)\n",
    "image_dimensions(hsv_img)\n",
    "\n",
    "plt.title('HSV Image')\n",
    "plt.imshow(hsv_img)\n",
    "\n",
    "split_color_display(hsv_img)"
   ]
  },
  {
   "cell_type": "code",
   "execution_count": null,
   "metadata": {},
   "outputs": [],
   "source": [
    "# combine pepsi logo with crumpled paper\n",
    "img1 = rgb_img\n",
    "img2 = cv2.imread('crumpled-paper.jpg')\n",
    "\n",
    "print('Image to be merged')\n",
    "plt.figure()\n",
    "plt.imshow(img2)\n",
    "plt.show()\n",
    "\n",
    "new_img2 = resize_image(img1,img2)\n",
    "blended_image = blend_images(img1,new_img2,.5)\n",
    "image_dimensions(blended_image)\n",
    "\n",
    "print('Merged Image')\n",
    "plt.figure()\n",
    "plt.imshow(blended_image)\n",
    "plt.show()"
   ]
  },
  {
   "cell_type": "code",
   "execution_count": null,
   "metadata": {},
   "outputs": [],
   "source": [
    "#rotate combined pepsi/paper logo\n",
    "rotated_img = rotate_image(blended_image, 45, .9)\n",
    "plt.title(\"Rotated Image\")\n",
    "plt.imshow(rotated_img)"
   ]
  },
  {
   "cell_type": "markdown",
   "metadata": {},
   "source": [
    "Affine Transformations: https://www.cis.rit.edu/class/simg782/lectures/lecture_02/lec782_05_02.pdf"
   ]
  },
  {
   "cell_type": "code",
   "execution_count": null,
   "metadata": {},
   "outputs": [],
   "source": [
    "# basically transforming the image without maintaining its dimensions\n",
    "# 'src_points' is your dimensions of your image\n",
    "# 'dst_points' is your future dimensions of your image (eg. from square to parellogram etc)\n",
    "# still fiddling, trying to understand the math behind the code sample before I generalize the code\n",
    "\n",
    "rows, cols = blended_image.shape[:2]\n",
    "src_points = np.float32([[0,0], [cols-1,0], [0,rows-1]])\n",
    "dst_points = np.float32([[0,0], [int(0.6*(cols-1)),0],[int(0.4*(cols-1)),rows-1]])\n",
    "affine_matrix = cv2.getAffineTransform(src_points, dst_points)\n",
    "img_output = cv2.warpAffine(blended_image, affine_matrix, (cols,rows))\n",
    "plt.imshow(img_output)"
   ]
  }
 ],
 "metadata": {
  "kernelspec": {
   "display_name": "Python 3",
   "language": "python",
   "name": "python3"
  },
  "language_info": {
   "codemirror_mode": {
    "name": "ipython",
    "version": 3
   },
   "file_extension": ".py",
   "mimetype": "text/x-python",
   "name": "python",
   "nbconvert_exporter": "python",
   "pygments_lexer": "ipython3",
   "version": "3.7.0"
  }
 },
 "nbformat": 4,
 "nbformat_minor": 2
}
